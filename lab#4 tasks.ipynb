{
 "cells": [
  {
   "cell_type": "code",
   "execution_count": 10,
   "metadata": {
    "collapsed": false
   },
   "outputs": [
    {
     "name": "stdout",
     "output_type": "stream",
     "text": [
      "enter operator-\n",
      "enter value 1 : 5\n",
      "enter value 2 : 3\n",
      "2\n"
     ]
    }
   ],
   "source": [
    "def add_(x,y):\n",
    "    print(x+y)\n",
    "def sub_(x,y):\n",
    "    print(x-y)\n",
    "def mul_(x,y):\n",
    "    print(x*y)\n",
    "def div_(x,y):\n",
    "    print(x/y)    \n",
    "\n",
    "inp = input(\"enter operator\")\n",
    "x = int(input(\"enter value 1 : \"))\n",
    "y = int(input(\"enter value 2 : \"))\n",
    "\n",
    "if inp == '+':\n",
    "    add_(x,y)\n",
    "elif inp == '-':\n",
    "    sub_(x,y)\n",
    "elif inp == '*':\n",
    "    mul_(x,y)    \n",
    "elif inp == '/':\n",
    "    div_(x,y) \n",
    "else :\n",
    "    print(\"invalid operater\")"
   ]
  },
  {
   "cell_type": "code",
   "execution_count": 48,
   "metadata": {
    "collapsed": false
   },
   "outputs": [
    {
     "name": "stdout",
     "output_type": "stream",
     "text": [
      "[1, 4, 9, 16, 25, 36, 49, 64, 81, 100, 121, 144, 169, 196, 225, 256, 289, 324, 361, 400]\n"
     ]
    }
   ],
   "source": [
    "def square_():\n",
    "    d=[]   \n",
    "    for i in range(1,21,1):\n",
    "        d.append(i*i)\n",
    "    print(d)\n",
    "\n",
    "square_()"
   ]
  },
  {
   "cell_type": "code",
   "execution_count": 51,
   "metadata": {
    "collapsed": true
   },
   "outputs": [],
   "source": [
    "class shape:\n",
    "    def __init__(self):\n",
    "        print(\"shape constructor called\")\n",
    "        \n",
    "    @staticmethod\n",
    "    def printType():\n",
    "        print(\"shape\")"
   ]
  },
  {
   "cell_type": "code",
   "execution_count": 52,
   "metadata": {
    "collapsed": false
   },
   "outputs": [],
   "source": [
    "class Rectangle(shape):\n",
    "    def __init__(self):\n",
    "        super().__init__()\n",
    "        self.lenght=0\n",
    "        self.width=0\n",
    "    def draw(self):\n",
    "        print(\"draw Rectangle\")\n",
    "   "
   ]
  },
  {
   "cell_type": "code",
   "execution_count": 53,
   "metadata": {
    "collapsed": true
   },
   "outputs": [],
   "source": [
    "class Triangle(shape):\n",
    "    def __init__(self):\n",
    "        super().__init__()\n",
    "        self.a=0\n",
    "        self.b=0\n",
    "        self.c=0\n",
    "    def draw(self):\n",
    "        print(\"draw Triangle\")"
   ]
  },
  {
   "cell_type": "code",
   "execution_count": 57,
   "metadata": {
    "collapsed": false,
    "scrolled": true
   },
   "outputs": [
    {
     "name": "stdout",
     "output_type": "stream",
     "text": [
      "shape\n",
      "shape constructor called\n",
      "shape\n",
      "shape constructor called\n",
      "draw Rectangle\n",
      "shape constructor called\n",
      "draw Triangle\n"
     ]
    }
   ],
   "source": [
    "shape.printType()\n",
    "s=shape()\n",
    "s.printType()\n",
    "r=Rectangle().draw()\n",
    "t=Triangle().draw()"
   ]
  },
  {
   "cell_type": "code",
   "execution_count": 23,
   "metadata": {
    "collapsed": false
   },
   "outputs": [
    {
     "name": "stdout",
     "output_type": "stream",
     "text": [
      "1\n",
      "2\n",
      "3\n",
      "4\n",
      "5\n",
      "6\n",
      "7\n",
      "8\n",
      "9\n",
      "10\n",
      "11\n",
      "12\n",
      "13\n",
      "14\n",
      "15\n",
      "16\n",
      "17\n",
      "18\n",
      "19\n",
      "20\n",
      "21\n",
      "22\n",
      "23\n",
      "24\n",
      "25\n",
      "26\n",
      "27\n",
      "28\n",
      "29\n",
      "30\n",
      "31\n",
      "32\n",
      "33\n",
      "34\n",
      "35\n",
      "36\n",
      "37\n",
      "38\n",
      "39\n",
      "40\n",
      "41\n",
      "42\n",
      "43\n",
      "44\n",
      "45\n",
      "46\n",
      "47\n",
      "48\n",
      "49\n",
      "50\n",
      "51\n",
      "52\n",
      "53\n",
      "54\n",
      "55\n",
      "56\n",
      "57\n",
      "58\n",
      "59\n",
      "60\n",
      "61\n",
      "62\n",
      "63\n",
      "64\n",
      "65\n",
      "66\n",
      "67\n",
      "68\n",
      "69\n",
      "70\n",
      "71\n",
      "72\n",
      "73\n",
      "74\n",
      "75\n",
      "76\n",
      "77\n",
      "78\n",
      "79\n",
      "80\n",
      "81\n",
      "82\n",
      "83\n",
      "84\n",
      "85\n",
      "86\n",
      "87\n",
      "88\n",
      "89\n",
      "90\n",
      "91\n",
      "92\n",
      "93\n",
      "94\n",
      "95\n",
      "96\n",
      "97\n",
      "98\n",
      "99\n",
      "100\n"
     ]
    }
   ],
   "source": [
    "for i in range (1,101):\n",
    "    print (i)\n",
    "    "
   ]
  },
  {
   "cell_type": "code",
   "execution_count": 71,
   "metadata": {
    "collapsed": false
   },
   "outputs": [
    {
     "name": "stdout",
     "output_type": "stream",
     "text": [
      "Enter the string to be reversed: walid\n",
      "dilaw\n"
     ]
    }
   ],
   "source": [
    "def reverse(string):\n",
    "    if len(string) == 0:\n",
    "        return string\n",
    "    else:\n",
    "        return reverse(string[1:]) + string[0]\n",
    "a = str(input(\"Enter the string to be reversed: \"))\n",
    "print(reverse(a))"
   ]
  }
 ],
 "metadata": {
  "kernelspec": {
   "display_name": "Python [Root]",
   "language": "python",
   "name": "Python [Root]"
  },
  "language_info": {
   "codemirror_mode": {
    "name": "ipython",
    "version": 3
   },
   "file_extension": ".py",
   "mimetype": "text/x-python",
   "name": "python",
   "nbconvert_exporter": "python",
   "pygments_lexer": "ipython3",
   "version": "3.5.2"
  }
 },
 "nbformat": 4,
 "nbformat_minor": 0
}
